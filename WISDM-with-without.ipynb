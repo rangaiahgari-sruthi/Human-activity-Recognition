{
 "cells": [
  {
   "cell_type": "code",
   "execution_count": 33,
   "metadata": {},
   "outputs": [],
   "source": [
    "import pandas as pd\n",
    "import numpy as np\n",
    "import matplotlib.pyplot as plt\n",
    "import seaborn as sns"
   ]
  },
  {
   "cell_type": "code",
   "execution_count": 2,
   "metadata": {},
   "outputs": [
    {
     "data": {
      "text/html": [
       "<div>\n",
       "<style scoped>\n",
       "    .dataframe tbody tr th:only-of-type {\n",
       "        vertical-align: middle;\n",
       "    }\n",
       "\n",
       "    .dataframe tbody tr th {\n",
       "        vertical-align: top;\n",
       "    }\n",
       "\n",
       "    .dataframe thead th {\n",
       "        text-align: right;\n",
       "    }\n",
       "</style>\n",
       "<table border=\"1\" class=\"dataframe\">\n",
       "  <thead>\n",
       "    <tr style=\"text-align: right;\">\n",
       "      <th></th>\n",
       "      <th>Unnamed: 0</th>\n",
       "      <th>\"ACTIVITY\"</th>\n",
       "      <th>\"X0\"</th>\n",
       "      <th>\"X1\"</th>\n",
       "      <th>\"X2\"</th>\n",
       "      <th>\"X3\"</th>\n",
       "      <th>\"X4\"</th>\n",
       "      <th>\"X5\"</th>\n",
       "      <th>\"X6\"</th>\n",
       "      <th>\"X7\"</th>\n",
       "      <th>...</th>\n",
       "      <th>\"ZMFCC12\"</th>\n",
       "      <th>\"XYCOS\"</th>\n",
       "      <th>\"XZCOS\"</th>\n",
       "      <th>\"YZCOS\"</th>\n",
       "      <th>\"XYCOR\"</th>\n",
       "      <th>\"XZCOR\"</th>\n",
       "      <th>\"YZCOR\"</th>\n",
       "      <th>\"RESULTANT\"</th>\n",
       "      <th>\"class\"</th>\n",
       "      <th>location</th>\n",
       "    </tr>\n",
       "  </thead>\n",
       "  <tbody>\n",
       "    <tr>\n",
       "      <td>0</td>\n",
       "      <td>10807</td>\n",
       "      <td>b'P'</td>\n",
       "      <td>0.000</td>\n",
       "      <td>0.005</td>\n",
       "      <td>0.015</td>\n",
       "      <td>0.045</td>\n",
       "      <td>0.475</td>\n",
       "      <td>0.390</td>\n",
       "      <td>0.070</td>\n",
       "      <td>0.000</td>\n",
       "      <td>...</td>\n",
       "      <td>0.475261</td>\n",
       "      <td>-0.868185</td>\n",
       "      <td>0.128353</td>\n",
       "      <td>-0.192599</td>\n",
       "      <td>0.473250</td>\n",
       "      <td>0.101977</td>\n",
       "      <td>-0.268787</td>\n",
       "      <td>10.3729</td>\n",
       "      <td>b'1638'</td>\n",
       "      <td>1</td>\n",
       "    </tr>\n",
       "    <tr>\n",
       "      <td>1</td>\n",
       "      <td>8496</td>\n",
       "      <td>b'C'</td>\n",
       "      <td>0.000</td>\n",
       "      <td>0.000</td>\n",
       "      <td>0.000</td>\n",
       "      <td>0.020</td>\n",
       "      <td>0.175</td>\n",
       "      <td>0.265</td>\n",
       "      <td>0.270</td>\n",
       "      <td>0.230</td>\n",
       "      <td>...</td>\n",
       "      <td>0.454954</td>\n",
       "      <td>-0.430003</td>\n",
       "      <td>-0.683816</td>\n",
       "      <td>0.159712</td>\n",
       "      <td>0.026523</td>\n",
       "      <td>-0.324429</td>\n",
       "      <td>-0.191616</td>\n",
       "      <td>10.9713</td>\n",
       "      <td>b'1625'</td>\n",
       "      <td>2</td>\n",
       "    </tr>\n",
       "    <tr>\n",
       "      <td>2</td>\n",
       "      <td>13875</td>\n",
       "      <td>b'R'</td>\n",
       "      <td>0.845</td>\n",
       "      <td>0.120</td>\n",
       "      <td>0.015</td>\n",
       "      <td>0.005</td>\n",
       "      <td>0.000</td>\n",
       "      <td>0.000</td>\n",
       "      <td>0.000</td>\n",
       "      <td>0.000</td>\n",
       "      <td>...</td>\n",
       "      <td>0.687652</td>\n",
       "      <td>-0.650537</td>\n",
       "      <td>-0.360839</td>\n",
       "      <td>0.069997</td>\n",
       "      <td>-0.497085</td>\n",
       "      <td>0.442408</td>\n",
       "      <td>-0.522440</td>\n",
       "      <td>10.3849</td>\n",
       "      <td>b'1604'</td>\n",
       "      <td>0</td>\n",
       "    </tr>\n",
       "    <tr>\n",
       "      <td>3</td>\n",
       "      <td>2553</td>\n",
       "      <td>b'P'</td>\n",
       "      <td>0.125</td>\n",
       "      <td>0.185</td>\n",
       "      <td>0.190</td>\n",
       "      <td>0.180</td>\n",
       "      <td>0.080</td>\n",
       "      <td>0.050</td>\n",
       "      <td>0.045</td>\n",
       "      <td>0.035</td>\n",
       "      <td>...</td>\n",
       "      <td>0.708139</td>\n",
       "      <td>-0.573851</td>\n",
       "      <td>0.411031</td>\n",
       "      <td>-0.663696</td>\n",
       "      <td>-0.424415</td>\n",
       "      <td>0.219443</td>\n",
       "      <td>-0.552526</td>\n",
       "      <td>11.9201</td>\n",
       "      <td>b'1622'</td>\n",
       "      <td>1</td>\n",
       "    </tr>\n",
       "    <tr>\n",
       "      <td>4</td>\n",
       "      <td>14263</td>\n",
       "      <td>b'M'</td>\n",
       "      <td>0.000</td>\n",
       "      <td>0.035</td>\n",
       "      <td>0.010</td>\n",
       "      <td>0.065</td>\n",
       "      <td>0.150</td>\n",
       "      <td>0.540</td>\n",
       "      <td>0.180</td>\n",
       "      <td>0.020</td>\n",
       "      <td>...</td>\n",
       "      <td>0.462296</td>\n",
       "      <td>-0.729113</td>\n",
       "      <td>0.168830</td>\n",
       "      <td>-0.151120</td>\n",
       "      <td>0.468516</td>\n",
       "      <td>-0.202634</td>\n",
       "      <td>0.115061</td>\n",
       "      <td>10.4240</td>\n",
       "      <td>b'1612'</td>\n",
       "      <td>2</td>\n",
       "    </tr>\n",
       "  </tbody>\n",
       "</table>\n",
       "<p>5 rows × 95 columns</p>\n",
       "</div>"
      ],
      "text/plain": [
       "   Unnamed: 0 \"ACTIVITY\"   \"X0\"   \"X1\"   \"X2\"   \"X3\"   \"X4\"   \"X5\"   \"X6\"  \\\n",
       "0       10807       b'P'  0.000  0.005  0.015  0.045  0.475  0.390  0.070   \n",
       "1        8496       b'C'  0.000  0.000  0.000  0.020  0.175  0.265  0.270   \n",
       "2       13875       b'R'  0.845  0.120  0.015  0.005  0.000  0.000  0.000   \n",
       "3        2553       b'P'  0.125  0.185  0.190  0.180  0.080  0.050  0.045   \n",
       "4       14263       b'M'  0.000  0.035  0.010  0.065  0.150  0.540  0.180   \n",
       "\n",
       "    \"X7\"  ...  \"ZMFCC12\"   \"XYCOS\"   \"XZCOS\"   \"YZCOS\"   \"XYCOR\"   \"XZCOR\"  \\\n",
       "0  0.000  ...   0.475261 -0.868185  0.128353 -0.192599  0.473250  0.101977   \n",
       "1  0.230  ...   0.454954 -0.430003 -0.683816  0.159712  0.026523 -0.324429   \n",
       "2  0.000  ...   0.687652 -0.650537 -0.360839  0.069997 -0.497085  0.442408   \n",
       "3  0.035  ...   0.708139 -0.573851  0.411031 -0.663696 -0.424415  0.219443   \n",
       "4  0.020  ...   0.462296 -0.729113  0.168830 -0.151120  0.468516 -0.202634   \n",
       "\n",
       "    \"YZCOR\"  \"RESULTANT\"  \"class\"  location  \n",
       "0 -0.268787      10.3729  b'1638'         1  \n",
       "1 -0.191616      10.9713  b'1625'         2  \n",
       "2 -0.522440      10.3849  b'1604'         0  \n",
       "3 -0.552526      11.9201  b'1622'         1  \n",
       "4  0.115061      10.4240  b'1612'         2  \n",
       "\n",
       "[5 rows x 95 columns]"
      ]
     },
     "execution_count": 2,
     "metadata": {},
     "output_type": "execute_result"
    }
   ],
   "source": [
    "df=pd.read_csv(\"wisdm_watch_accel.csv\")\n",
    "df.head()"
   ]
  },
  {
   "cell_type": "code",
   "execution_count": 4,
   "metadata": {},
   "outputs": [
    {
     "data": {
      "text/plain": [
       "(18211, 95)"
      ]
     },
     "execution_count": 4,
     "metadata": {},
     "output_type": "execute_result"
    }
   ],
   "source": [
    "df.shape"
   ]
  },
  {
   "cell_type": "code",
   "execution_count": 94,
   "metadata": {},
   "outputs": [],
   "source": [
    "df=df.drop(columns=['\"class\"'],axis=1)"
   ]
  },
  {
   "cell_type": "code",
   "execution_count": 95,
   "metadata": {},
   "outputs": [],
   "source": [
    "df = df.loc[:, ~df.columns.str.contains('^Unnamed')]"
   ]
  },
  {
   "cell_type": "code",
   "execution_count": 96,
   "metadata": {},
   "outputs": [
    {
     "data": {
      "text/html": [
       "<div>\n",
       "<style scoped>\n",
       "    .dataframe tbody tr th:only-of-type {\n",
       "        vertical-align: middle;\n",
       "    }\n",
       "\n",
       "    .dataframe tbody tr th {\n",
       "        vertical-align: top;\n",
       "    }\n",
       "\n",
       "    .dataframe thead th {\n",
       "        text-align: right;\n",
       "    }\n",
       "</style>\n",
       "<table border=\"1\" class=\"dataframe\">\n",
       "  <thead>\n",
       "    <tr style=\"text-align: right;\">\n",
       "      <th></th>\n",
       "      <th>\"ACTIVITY\"</th>\n",
       "      <th>\"X0\"</th>\n",
       "      <th>\"X1\"</th>\n",
       "      <th>\"X2\"</th>\n",
       "      <th>\"X3\"</th>\n",
       "      <th>\"X4\"</th>\n",
       "      <th>\"X5\"</th>\n",
       "      <th>\"X6\"</th>\n",
       "      <th>\"X7\"</th>\n",
       "      <th>\"X8\"</th>\n",
       "      <th>...</th>\n",
       "      <th>\"ZMFCC11\"</th>\n",
       "      <th>\"ZMFCC12\"</th>\n",
       "      <th>\"XYCOS\"</th>\n",
       "      <th>\"XZCOS\"</th>\n",
       "      <th>\"YZCOS\"</th>\n",
       "      <th>\"XYCOR\"</th>\n",
       "      <th>\"XZCOR\"</th>\n",
       "      <th>\"YZCOR\"</th>\n",
       "      <th>\"RESULTANT\"</th>\n",
       "      <th>location</th>\n",
       "    </tr>\n",
       "  </thead>\n",
       "  <tbody>\n",
       "    <tr>\n",
       "      <td>0</td>\n",
       "      <td>b'P'</td>\n",
       "      <td>0.000</td>\n",
       "      <td>0.005</td>\n",
       "      <td>0.015</td>\n",
       "      <td>0.045</td>\n",
       "      <td>0.475</td>\n",
       "      <td>0.390</td>\n",
       "      <td>0.070</td>\n",
       "      <td>0.000</td>\n",
       "      <td>0.000</td>\n",
       "      <td>...</td>\n",
       "      <td>0.481447</td>\n",
       "      <td>0.475261</td>\n",
       "      <td>-0.868185</td>\n",
       "      <td>0.128353</td>\n",
       "      <td>-0.192599</td>\n",
       "      <td>0.473250</td>\n",
       "      <td>0.101977</td>\n",
       "      <td>-0.268787</td>\n",
       "      <td>10.3729</td>\n",
       "      <td>1</td>\n",
       "    </tr>\n",
       "    <tr>\n",
       "      <td>1</td>\n",
       "      <td>b'C'</td>\n",
       "      <td>0.000</td>\n",
       "      <td>0.000</td>\n",
       "      <td>0.000</td>\n",
       "      <td>0.020</td>\n",
       "      <td>0.175</td>\n",
       "      <td>0.265</td>\n",
       "      <td>0.270</td>\n",
       "      <td>0.230</td>\n",
       "      <td>0.020</td>\n",
       "      <td>...</td>\n",
       "      <td>0.460876</td>\n",
       "      <td>0.454954</td>\n",
       "      <td>-0.430003</td>\n",
       "      <td>-0.683816</td>\n",
       "      <td>0.159712</td>\n",
       "      <td>0.026523</td>\n",
       "      <td>-0.324429</td>\n",
       "      <td>-0.191616</td>\n",
       "      <td>10.9713</td>\n",
       "      <td>2</td>\n",
       "    </tr>\n",
       "    <tr>\n",
       "      <td>2</td>\n",
       "      <td>b'R'</td>\n",
       "      <td>0.845</td>\n",
       "      <td>0.120</td>\n",
       "      <td>0.015</td>\n",
       "      <td>0.005</td>\n",
       "      <td>0.000</td>\n",
       "      <td>0.000</td>\n",
       "      <td>0.000</td>\n",
       "      <td>0.000</td>\n",
       "      <td>0.000</td>\n",
       "      <td>...</td>\n",
       "      <td>0.696604</td>\n",
       "      <td>0.687652</td>\n",
       "      <td>-0.650537</td>\n",
       "      <td>-0.360839</td>\n",
       "      <td>0.069997</td>\n",
       "      <td>-0.497085</td>\n",
       "      <td>0.442408</td>\n",
       "      <td>-0.522440</td>\n",
       "      <td>10.3849</td>\n",
       "      <td>0</td>\n",
       "    </tr>\n",
       "    <tr>\n",
       "      <td>3</td>\n",
       "      <td>b'P'</td>\n",
       "      <td>0.125</td>\n",
       "      <td>0.185</td>\n",
       "      <td>0.190</td>\n",
       "      <td>0.180</td>\n",
       "      <td>0.080</td>\n",
       "      <td>0.050</td>\n",
       "      <td>0.045</td>\n",
       "      <td>0.035</td>\n",
       "      <td>0.025</td>\n",
       "      <td>...</td>\n",
       "      <td>0.717357</td>\n",
       "      <td>0.708139</td>\n",
       "      <td>-0.573851</td>\n",
       "      <td>0.411031</td>\n",
       "      <td>-0.663696</td>\n",
       "      <td>-0.424415</td>\n",
       "      <td>0.219443</td>\n",
       "      <td>-0.552526</td>\n",
       "      <td>11.9201</td>\n",
       "      <td>1</td>\n",
       "    </tr>\n",
       "    <tr>\n",
       "      <td>4</td>\n",
       "      <td>b'M'</td>\n",
       "      <td>0.000</td>\n",
       "      <td>0.035</td>\n",
       "      <td>0.010</td>\n",
       "      <td>0.065</td>\n",
       "      <td>0.150</td>\n",
       "      <td>0.540</td>\n",
       "      <td>0.180</td>\n",
       "      <td>0.020</td>\n",
       "      <td>0.000</td>\n",
       "      <td>...</td>\n",
       "      <td>0.468313</td>\n",
       "      <td>0.462296</td>\n",
       "      <td>-0.729113</td>\n",
       "      <td>0.168830</td>\n",
       "      <td>-0.151120</td>\n",
       "      <td>0.468516</td>\n",
       "      <td>-0.202634</td>\n",
       "      <td>0.115061</td>\n",
       "      <td>10.4240</td>\n",
       "      <td>2</td>\n",
       "    </tr>\n",
       "  </tbody>\n",
       "</table>\n",
       "<p>5 rows × 93 columns</p>\n",
       "</div>"
      ],
      "text/plain": [
       "  \"ACTIVITY\"   \"X0\"   \"X1\"   \"X2\"   \"X3\"   \"X4\"   \"X5\"   \"X6\"   \"X7\"   \"X8\"  \\\n",
       "0       b'P'  0.000  0.005  0.015  0.045  0.475  0.390  0.070  0.000  0.000   \n",
       "1       b'C'  0.000  0.000  0.000  0.020  0.175  0.265  0.270  0.230  0.020   \n",
       "2       b'R'  0.845  0.120  0.015  0.005  0.000  0.000  0.000  0.000  0.000   \n",
       "3       b'P'  0.125  0.185  0.190  0.180  0.080  0.050  0.045  0.035  0.025   \n",
       "4       b'M'  0.000  0.035  0.010  0.065  0.150  0.540  0.180  0.020  0.000   \n",
       "\n",
       "   ...  \"ZMFCC11\"  \"ZMFCC12\"   \"XYCOS\"   \"XZCOS\"   \"YZCOS\"   \"XYCOR\"  \\\n",
       "0  ...   0.481447   0.475261 -0.868185  0.128353 -0.192599  0.473250   \n",
       "1  ...   0.460876   0.454954 -0.430003 -0.683816  0.159712  0.026523   \n",
       "2  ...   0.696604   0.687652 -0.650537 -0.360839  0.069997 -0.497085   \n",
       "3  ...   0.717357   0.708139 -0.573851  0.411031 -0.663696 -0.424415   \n",
       "4  ...   0.468313   0.462296 -0.729113  0.168830 -0.151120  0.468516   \n",
       "\n",
       "    \"XZCOR\"   \"YZCOR\"  \"RESULTANT\"  location  \n",
       "0  0.101977 -0.268787      10.3729         1  \n",
       "1 -0.324429 -0.191616      10.9713         2  \n",
       "2  0.442408 -0.522440      10.3849         0  \n",
       "3  0.219443 -0.552526      11.9201         1  \n",
       "4 -0.202634  0.115061      10.4240         2  \n",
       "\n",
       "[5 rows x 93 columns]"
      ]
     },
     "execution_count": 96,
     "metadata": {},
     "output_type": "execute_result"
    }
   ],
   "source": [
    "df.head()"
   ]
  },
  {
   "cell_type": "code",
   "execution_count": 97,
   "metadata": {},
   "outputs": [
    {
     "data": {
      "image/png": "[encoded data removed]",
      "text/plain": [
       "<Figure size 720x576 with 1 Axes>"
      ]
     },
     "metadata": {},
     "output_type": "display_data"
    }
   ],
   "source": [
    "y = df.iloc[:, 0].values\n",
    "y=y.astype('str')\n",
    "\n",
    "from sklearn.preprocessing import LabelEncoder\n",
    "labelencoder_y = LabelEncoder()\n",
    "labels= labelencoder_y.fit_transform(y)\n",
    "\n",
    "sns.set(rc={'figure.figsize':(10,8)})\n",
    "ax = sns.countplot(x=labels)\n",
    "for i in ax.patches:\n",
    "  ax.text(x=i.get_x(),y=i.get_height(), s=str(i.get_height()),fontsize=13)"
   ]
  },
  {
   "cell_type": "code",
   "execution_count": 98,
   "metadata": {},
   "outputs": [],
   "source": [
    "accuracy=[]\n",
    "accuracyl=[]"
   ]
  },
  {
   "cell_type": "code",
   "execution_count": 99,
   "metadata": {},
   "outputs": [],
   "source": [
    "# WITHOUT LOCATION MODEL\n",
    "y = df.iloc[:, 0].values\n",
    "y=y.astype('str')\n",
    "\n",
    "from sklearn.preprocessing import LabelEncoder\n",
    "labelencoder_y = LabelEncoder()\n",
    "y = labelencoder_y.fit_transform(y)"
   ]
  },
  {
   "cell_type": "code",
   "execution_count": 100,
   "metadata": {},
   "outputs": [
    {
     "data": {
      "text/plain": [
       "(18211, 91)"
      ]
     },
     "execution_count": 100,
     "metadata": {},
     "output_type": "execute_result"
    }
   ],
   "source": [
    "x = df.iloc[:, 1:92].values\n",
    "x.shape"
   ]
  },
  {
   "cell_type": "code",
   "execution_count": 27,
   "metadata": {},
   "outputs": [],
   "source": [
    "from sklearn.model_selection import train_test_split\n",
    "x_train,x_test,y_train,y_test=train_test_split(x,y,test_size=0.25,random_state=0)"
   ]
  },
  {
   "cell_type": "code",
   "execution_count": 28,
   "metadata": {},
   "outputs": [],
   "source": [
    "#DECISION TREE\n",
    "from sklearn.tree import DecisionTreeClassifier \n",
    "clf = DecisionTreeClassifier()\n",
    "clf = clf.fit(x_train,y_train)\n",
    "y_pred = clf.predict(x_test)"
   ]
  },
  {
   "cell_type": "code",
   "execution_count": 29,
   "metadata": {},
   "outputs": [
    {
     "data": {
      "text/plain": [
       "0.7388535031847133"
      ]
     },
     "execution_count": 29,
     "metadata": {},
     "output_type": "execute_result"
    }
   ],
   "source": [
    "from sklearn.metrics import accuracy_score\n",
    "Accuracy_d1=accuracy_score(y_test,y_pred)\n",
    "Accuracy_d1"
   ]
  },
  {
   "cell_type": "code",
   "execution_count": 30,
   "metadata": {},
   "outputs": [],
   "source": [
    "accuracy.append(Accuracy_d1)"
   ]
  },
  {
   "cell_type": "code",
   "execution_count": 32,
   "metadata": {},
   "outputs": [
    {
     "name": "stdout",
     "output_type": "stream",
     "text": [
      "Accuracy: 0.84 (+/- 0.01)\n"
     ]
    }
   ],
   "source": [
    "#RANDOM FOREST\n",
    "from sklearn.ensemble import RandomForestClassifier\n",
    "classifier = RandomForestClassifier(n_estimators = 400, criterion = 'gini', random_state = 0)\n",
    "classifier.fit(x_train, y_train)\n",
    "\n",
    "\n",
    "y_pred = classifier.predict(x_test)\n",
    "Accuracy_r1=accuracy_score(y_test,y_pred)\n",
    "\n",
    "from sklearn.model_selection import cross_val_score\n",
    "scores = cross_val_score(classifier, x, y, cv=5)\n",
    "scores\n",
    "\n",
    "print(\"Accuracy: %0.2f (+/- %0.2f)\" % (scores.mean(), scores.std() * 2))"
   ]
  },
  {
   "cell_type": "code",
   "execution_count": 33,
   "metadata": {},
   "outputs": [],
   "source": [
    "Accuracy_r1=(scores.mean(), scores.std() * 2)"
   ]
  },
  {
   "cell_type": "code",
   "execution_count": 78,
   "metadata": {},
   "outputs": [],
   "source": [
    "del accuracy[1]"
   ]
  },
  {
   "cell_type": "code",
   "execution_count": 80,
   "metadata": {},
   "outputs": [],
   "source": [
    "accuracy.insert(1,Accuracy_r1[0])"
   ]
  },
  {
   "cell_type": "code",
   "execution_count": 35,
   "metadata": {},
   "outputs": [
    {
     "name": "stderr",
     "output_type": "stream",
     "text": [
      "Using TensorFlow backend.\n"
     ]
    },
    {
     "name": "stdout",
     "output_type": "stream",
     "text": [
      "WARNING:tensorflow:From C:\\Users\\ravi\\Anaconda3\\lib\\site-packages\\keras\\backend\\tensorflow_backend.py:422: The name tf.global_variables is deprecated. Please use tf.compat.v1.global_variables instead.\n",
      "\n",
      "Train on 12201 samples, validate on 6010 samples\n",
      "Epoch 1/20\n",
      "12201/12201 [==============================] - 24s 2ms/step - loss: 1.8345 - accuracy: 0.4156 - val_loss: 1.4011 - val_accuracy: 0.5471\n",
      "Epoch 2/20\n",
      "12201/12201 [==============================] - 24s 2ms/step - loss: 1.2793 - accuracy: 0.5721 - val_loss: 1.2506 - val_accuracy: 0.5814\n",
      "Epoch 3/20\n",
      "12201/12201 [==============================] - 24s 2ms/step - loss: 1.0846 - accuracy: 0.6383 - val_loss: 1.0665 - val_accuracy: 0.6389\n",
      "Epoch 4/20\n",
      "12201/12201 [==============================] - 24s 2ms/step - loss: 0.9279 - accuracy: 0.6844 - val_loss: 0.9353 - val_accuracy: 0.6775\n",
      "Epoch 5/20\n",
      "12201/12201 [==============================] - 24s 2ms/step - loss: 0.8520 - accuracy: 0.7099 - val_loss: 0.9225 - val_accuracy: 0.6905\n",
      "Epoch 6/20\n",
      "12201/12201 [==============================] - 24s 2ms/step - loss: 0.7892 - accuracy: 0.7302 - val_loss: 0.8795 - val_accuracy: 0.7025\n",
      "Epoch 7/20\n",
      "12201/12201 [==============================] - 24s 2ms/step - loss: 0.7384 - accuracy: 0.7489 - val_loss: 0.9204 - val_accuracy: 0.7012\n",
      "Epoch 8/20\n",
      "12201/12201 [==============================] - 24s 2ms/step - loss: 0.6852 - accuracy: 0.7672 - val_loss: 0.8190 - val_accuracy: 0.7391\n",
      "Epoch 9/20\n",
      "12201/12201 [==============================] - 24s 2ms/step - loss: 0.6393 - accuracy: 0.7801 - val_loss: 0.8007 - val_accuracy: 0.7419\n",
      "Epoch 10/20\n",
      "12201/12201 [==============================] - 24s 2ms/step - loss: 0.5991 - accuracy: 0.7974 - val_loss: 0.7538 - val_accuracy: 0.7564\n",
      "Epoch 11/20\n",
      "12201/12201 [==============================] - 24s 2ms/step - loss: 0.5735 - accuracy: 0.8049 - val_loss: 0.7706 - val_accuracy: 0.7567\n",
      "Epoch 12/20\n",
      "12201/12201 [==============================] - 24s 2ms/step - loss: 0.5342 - accuracy: 0.8147 - val_loss: 0.8173 - val_accuracy: 0.7526\n",
      "Epoch 13/20\n",
      "12201/12201 [==============================] - 24s 2ms/step - loss: 0.5156 - accuracy: 0.8213 - val_loss: 0.7486 - val_accuracy: 0.7649\n",
      "Epoch 14/20\n",
      "12201/12201 [==============================] - 24s 2ms/step - loss: 0.4813 - accuracy: 0.8317 - val_loss: 0.7280 - val_accuracy: 0.7777\n",
      "Epoch 15/20\n",
      "12201/12201 [==============================] - 24s 2ms/step - loss: 0.4595 - accuracy: 0.8344 - val_loss: 0.7636 - val_accuracy: 0.7752\n",
      "Epoch 16/20\n",
      "12201/12201 [==============================] - 24s 2ms/step - loss: 0.4280 - accuracy: 0.8485 - val_loss: 0.8449 - val_accuracy: 0.7622\n",
      "Epoch 17/20\n",
      "12201/12201 [==============================] - 24s 2ms/step - loss: 0.4203 - accuracy: 0.8480 - val_loss: 0.8054 - val_accuracy: 0.7707\n",
      "Epoch 18/20\n",
      "12201/12201 [==============================] - 24s 2ms/step - loss: 0.3773 - accuracy: 0.8639 - val_loss: 0.7841 - val_accuracy: 0.7739\n",
      "Epoch 19/20\n",
      "12201/12201 [==============================] - 24s 2ms/step - loss: 0.3437 - accuracy: 0.8774 - val_loss: 0.8059 - val_accuracy: 0.7777\n",
      "Epoch 20/20\n",
      "12201/12201 [==============================] - 24s 2ms/step - loss: 0.3465 - accuracy: 0.8760 - val_loss: 0.8321 - val_accuracy: 0.7674\n"
     ]
    }
   ],
   "source": [
    "import keras\n",
    "from keras.models import Sequential\n",
    "from keras.layers import Dense\n",
    "from keras.layers import Dropout\n",
    "from keras import layers\n",
    "\n",
    "from sklearn.preprocessing import StandardScaler\n",
    "sc = StandardScaler()\n",
    "x_train = sc.fit_transform(x_train)\n",
    "x_test = sc.transform(x_test)\n",
    "\n",
    "model = Sequential()\n",
    "\n",
    "model.add(Dense(64,kernel_initializer='glorot_normal',activation = \"relu\"))\n",
    "model.add(Dense(1024,kernel_initializer='glorot_normal',activation = \"relu\"))\n",
    "model.add(Dense(1024,kernel_initializer='glorot_normal',activation = \"relu\"))\n",
    "model.add(Dense(1024,kernel_initializer='glorot_normal',activation = \"relu\"))\n",
    "model.add(Dense(18,activation = \"softmax\"))\n",
    "optimizer = keras.optimizers.Adam(lr=0.01)\n",
    "model.compile(optimizer = \"adam\", loss = \"sparse_categorical_crossentropy\", metrics = ['accuracy'])\n",
    "history =  model.fit(x,y,validation_split=0.33,epochs = 20)\n"
   ]
  },
  {
   "cell_type": "code",
   "execution_count": 36,
   "metadata": {},
   "outputs": [
    {
     "name": "stdout",
     "output_type": "stream",
     "text": [
      "dict_keys(['val_loss', 'val_accuracy', 'loss', 'accuracy'])\n"
     ]
    },
    {
     "data": {
      "image/png": "[encoded data removed]",
      "text/plain": [
       "<Figure size 720x576 with 1 Axes>"
      ]
     },
     "metadata": {},
     "output_type": "display_data"
    }
   ],
   "source": [
    "print(history.history.keys())\n",
    "# summarize history for accuracy\n",
    "plt.plot(history.history['accuracy'])\n",
    "plt.plot(history.history['val_accuracy'])\n",
    "plt.title('model accuracy')\n",
    "plt.ylabel('accuracy')\n",
    "plt.xlabel('epoch')\n",
    "plt.legend(['train', 'test'], loc='upper left')\n",
    "plt.show()"
   ]
  },
  {
   "cell_type": "code",
   "execution_count": 101,
   "metadata": {},
   "outputs": [
    {
     "name": "stdout",
     "output_type": "stream",
     "text": [
      "Train on 12201 samples, validate on 6010 samples\n",
      "Epoch 1/20\n",
      "12201/12201 [==============================] - 39s 3ms/step - loss: 1.8991 - accuracy: 0.3853 - val_loss: 1.5041 - val_accuracy: 0.4755\n",
      "Epoch 2/20\n",
      "12201/12201 [==============================] - 29s 2ms/step - loss: 1.3250 - accuracy: 0.5594 - val_loss: 1.1873 - val_accuracy: 0.6020\n",
      "Epoch 3/20\n",
      "12201/12201 [==============================] - 38s 3ms/step - loss: 1.1278 - accuracy: 0.6200 - val_loss: 1.0587 - val_accuracy: 0.6471\n",
      "Epoch 4/20\n",
      "12201/12201 [==============================] - 31s 3ms/step - loss: 1.0027 - accuracy: 0.6604 - val_loss: 0.9754 - val_accuracy: 0.6800\n",
      "Epoch 5/20\n",
      "12201/12201 [==============================] - 32s 3ms/step - loss: 0.9125 - accuracy: 0.6885 - val_loss: 0.8926 - val_accuracy: 0.7047\n",
      "Epoch 6/20\n",
      "12201/12201 [==============================] - 28s 2ms/step - loss: 0.8406 - accuracy: 0.7163 - val_loss: 0.9196 - val_accuracy: 0.6975\n",
      "Epoch 7/20\n",
      "12201/12201 [==============================] - 36s 3ms/step - loss: 0.7741 - accuracy: 0.7376 - val_loss: 0.8578 - val_accuracy: 0.7206\n",
      "Epoch 8/20\n",
      "12201/12201 [==============================] - 31s 3ms/step - loss: 0.7331 - accuracy: 0.7481 - val_loss: 0.7924 - val_accuracy: 0.7351\n",
      "Epoch 9/20\n",
      "12201/12201 [==============================] - 31s 3ms/step - loss: 0.7065 - accuracy: 0.7576 - val_loss: 0.7687 - val_accuracy: 0.7499\n",
      "Epoch 10/20\n",
      "12201/12201 [==============================] - 28s 2ms/step - loss: 0.6440 - accuracy: 0.7775 - val_loss: 0.7714 - val_accuracy: 0.7456\n",
      "Epoch 11/20\n",
      "12201/12201 [==============================] - 28s 2ms/step - loss: 0.6264 - accuracy: 0.7858 - val_loss: 0.7739 - val_accuracy: 0.7502\n",
      "Epoch 12/20\n",
      "12201/12201 [==============================] - 28s 2ms/step - loss: 0.6056 - accuracy: 0.7946 - val_loss: 0.7852 - val_accuracy: 0.7471\n",
      "Epoch 13/20\n",
      "12201/12201 [==============================] - 28s 2ms/step - loss: 0.5686 - accuracy: 0.8036 - val_loss: 0.7365 - val_accuracy: 0.7715\n",
      "Epoch 14/20\n",
      "12201/12201 [==============================] - 28s 2ms/step - loss: 0.5389 - accuracy: 0.8137 - val_loss: 0.7679 - val_accuracy: 0.7609\n",
      "Epoch 15/20\n",
      "12201/12201 [==============================] - 28s 2ms/step - loss: 0.5196 - accuracy: 0.8183 - val_loss: 0.7168 - val_accuracy: 0.7774\n",
      "Epoch 16/20\n",
      "12201/12201 [==============================] - 30s 2ms/step - loss: 0.4965 - accuracy: 0.8240 - val_loss: 0.6937 - val_accuracy: 0.7799\n",
      "Epoch 17/20\n",
      "12201/12201 [==============================] - 29s 2ms/step - loss: 0.4781 - accuracy: 0.8317 - val_loss: 0.7282 - val_accuracy: 0.7862\n",
      "Epoch 18/20\n",
      "12201/12201 [==============================] - 28s 2ms/step - loss: 0.4562 - accuracy: 0.8385 - val_loss: 0.7496 - val_accuracy: 0.7794\n",
      "Epoch 19/20\n",
      "12201/12201 [==============================] - 28s 2ms/step - loss: 0.4445 - accuracy: 0.8430 - val_loss: 0.7070 - val_accuracy: 0.7918\n",
      "Epoch 20/20\n",
      "12201/12201 [==============================] - 31s 3ms/step - loss: 0.4042 - accuracy: 0.8585 - val_loss: 0.7233 - val_accuracy: 0.7912\n"
     ]
    }
   ],
   "source": [
    "import keras\n",
    "from keras.models import Sequential\n",
    "from keras.layers import Dense\n",
    "from keras.layers import Dropout\n",
    "from keras import layers\n",
    "\n",
    "from sklearn.preprocessing import StandardScaler\n",
    "sc = StandardScaler()\n",
    "x_train = sc.fit_transform(x_train)\n",
    "x_test = sc.transform(x_test)\n",
    "\n",
    "model = Sequential()\n",
    "\n",
    "model.add(Dense(64,kernel_initializer='glorot_normal',activation = \"relu\"))\n",
    "model.add(Dense(1024,kernel_initializer='glorot_normal',activation = \"relu\"))\n",
    "model.add(Dense(1024,kernel_initializer='glorot_normal',activation = \"relu\"))\n",
    "model.add(Dense(1024,kernel_initializer='glorot_normal',activation = \"relu\"))\n",
    "model.add(layers.Dropout(0.25))\n",
    "model.add(Dense(18,activation = \"softmax\"))\n",
    "optimizer = keras.optimizers.Adam(lr=0.01)\n",
    "model.compile(optimizer = \"adam\", loss = \"sparse_categorical_crossentropy\", metrics = ['accuracy'])\n",
    "history =  model.fit(x,y,validation_split=0.33,epochs = 20)\n"
   ]
  },
  {
   "cell_type": "code",
   "execution_count": 103,
   "metadata": {},
   "outputs": [
    {
     "name": "stdout",
     "output_type": "stream",
     "text": [
      "dict_keys(['val_loss', 'val_accuracy', 'loss', 'accuracy'])\n"
     ]
    },
    {
     "data": {
      "image/png": "[encoded data removed]",
      "text/plain": [
       "<Figure size 720x576 with 1 Axes>"
      ]
     },
     "metadata": {},
     "output_type": "display_data"
    }
   ],
   "source": [
    "print(history.history.keys())\n",
    "# summarize history for accuracy\n",
    "plt.plot(history.history['accuracy'])\n",
    "plt.plot(history.history['val_accuracy'])\n",
    "plt.title('model accuracy')\n",
    "plt.ylabel('accuracy')\n",
    "plt.xlabel('epoch')\n",
    "plt.legend(['train', 'test'], loc='upper left')\n",
    "plt.show()"
   ]
  },
  {
   "cell_type": "code",
   "execution_count": 38,
   "metadata": {},
   "outputs": [
    {
     "name": "stdout",
     "output_type": "stream",
     "text": [
      "4553/4553 [==============================] - 1s 296us/step\n"
     ]
    },
    {
     "data": {
      "text/plain": [
       "0.8346145153045654"
      ]
     },
     "execution_count": 38,
     "metadata": {},
     "output_type": "execute_result"
    }
   ],
   "source": [
    "accuracy_a1=model.evaluate(x_test,y_test)[1]\n",
    "accuracy_a1"
   ]
  },
  {
   "cell_type": "code",
   "execution_count": 40,
   "metadata": {},
   "outputs": [],
   "source": [
    "accuracy.append(accuracy_a1)"
   ]
  },
  {
   "cell_type": "code",
   "execution_count": 41,
   "metadata": {},
   "outputs": [
    {
     "data": {
      "text/plain": [
       "(18211, 92)"
      ]
     },
     "execution_count": 41,
     "metadata": {},
     "output_type": "execute_result"
    }
   ],
   "source": [
    "#WITH LOCATION\n",
    "x1 = df.iloc[:, 1:].values\n",
    "x1.shape"
   ]
  },
  {
   "cell_type": "code",
   "execution_count": 42,
   "metadata": {},
   "outputs": [],
   "source": [
    "from sklearn.model_selection import train_test_split\n",
    "x1_train,x1_test,y1_train,y1_test=train_test_split(x1,y,test_size=0.25,random_state=0)"
   ]
  },
  {
   "cell_type": "code",
   "execution_count": 43,
   "metadata": {},
   "outputs": [
    {
     "data": {
      "text/plain": [
       "0.7878321985504063"
      ]
     },
     "execution_count": 43,
     "metadata": {},
     "output_type": "execute_result"
    }
   ],
   "source": [
    "#DECISION TREE WTITH LOCATION\n",
    "from sklearn.tree import DecisionTreeClassifier \n",
    "clf = DecisionTreeClassifier()\n",
    "clf = clf.fit(x1_train,y1_train)\n",
    "y1_pred = clf.predict(x1_test)\n",
    "\n",
    "from sklearn.metrics import accuracy_score\n",
    "Accuracy_d2=accuracy_score(y1_test,y1_pred)\n",
    "Accuracy_d2"
   ]
  },
  {
   "cell_type": "code",
   "execution_count": 44,
   "metadata": {},
   "outputs": [],
   "source": [
    "accuracyl.append(Accuracy_d2)"
   ]
  },
  {
   "cell_type": "code",
   "execution_count": 45,
   "metadata": {},
   "outputs": [
    {
     "name": "stdout",
     "output_type": "stream",
     "text": [
      "Accuracy: 0.88 (+/- 0.01)\n"
     ]
    }
   ],
   "source": [
    "#RANDOM FOREST WITH LOCATION\n",
    "\n",
    "classifier = RandomForestClassifier(n_estimators = 400, criterion = 'gini', random_state = 0)\n",
    "classifier.fit(x1_train, y1_train)\n",
    "\n",
    "\n",
    "y1_pred = classifier.predict(x1_test)\n",
    "\n",
    "from sklearn.model_selection import cross_val_score\n",
    "scores = cross_val_score(classifier, x1, y, cv=5)\n",
    "scores\n",
    "\n",
    "print(\"Accuracy: %0.2f (+/- %0.2f)\" % (scores.mean(), scores.std() * 2))\n",
    "Accuracy_r2 = (scores.mean(), scores.std() * 2)"
   ]
  },
  {
   "cell_type": "code",
   "execution_count": 73,
   "metadata": {},
   "outputs": [],
   "source": [
    "del accuracyl[1]"
   ]
  },
  {
   "cell_type": "code",
   "execution_count": 74,
   "metadata": {},
   "outputs": [],
   "source": [
    "accuracyl.insert(1,Accuracy_r2[0])"
   ]
  },
  {
   "cell_type": "code",
   "execution_count": 47,
   "metadata": {},
   "outputs": [
    {
     "name": "stdout",
     "output_type": "stream",
     "text": [
      "Epoch 1/20\n",
      "13658/13658 [==============================] - 27s 2ms/step - loss: 0.9799 - accuracy: 0.6598\n",
      "Epoch 2/20\n",
      "13658/13658 [==============================] - 27s 2ms/step - loss: 0.5859 - accuracy: 0.7970\n",
      "Epoch 3/20\n",
      "13658/13658 [==============================] - 27s 2ms/step - loss: 0.4882 - accuracy: 0.8260\n",
      "Epoch 4/20\n",
      "13658/13658 [==============================] - 28s 2ms/step - loss: 0.4258 - accuracy: 0.8522\n",
      "Epoch 5/20\n",
      "13658/13658 [==============================] - 25s 2ms/step - loss: 0.3777 - accuracy: 0.8678\n",
      "Epoch 6/20\n",
      "13658/13658 [==============================] - 25s 2ms/step - loss: 0.3437 - accuracy: 0.8809\n",
      "Epoch 7/20\n",
      "13658/13658 [==============================] - 26s 2ms/step - loss: 0.3194 - accuracy: 0.8861 0s - loss: 0.3193 - accuracy: 0.\n",
      "Epoch 8/20\n",
      "13658/13658 [==============================] - 27s 2ms/step - loss: 0.2856 - accuracy: 0.8984\n",
      "Epoch 9/20\n",
      "13658/13658 [==============================] - 29s 2ms/step - loss: 0.2669 - accuracy: 0.9066\n",
      "Epoch 10/20\n",
      "13658/13658 [==============================] - 26s 2ms/step - loss: 0.2401 - accuracy: 0.9170\n",
      "Epoch 11/20\n",
      "13658/13658 [==============================] - 28s 2ms/step - loss: 0.2289 - accuracy: 0.9196\n",
      "Epoch 12/20\n",
      "13658/13658 [==============================] - 27s 2ms/step - loss: 0.2051 - accuracy: 0.9299\n",
      "Epoch 13/20\n",
      "13658/13658 [==============================] - 28s 2ms/step - loss: 0.1770 - accuracy: 0.9367\n",
      "Epoch 14/20\n",
      "13658/13658 [==============================] - 25s 2ms/step - loss: 0.1888 - accuracy: 0.9365\n",
      "Epoch 15/20\n",
      "13658/13658 [==============================] - 25s 2ms/step - loss: 0.1557 - accuracy: 0.9445 1s - loss: 0.1538 - accuracy:  - ETA: 0s -\n",
      "Epoch 16/20\n",
      "13658/13658 [==============================] - 28s 2ms/step - loss: 0.1508 - accuracy: 0.9457\n",
      "Epoch 17/20\n",
      "13658/13658 [==============================] - 27s 2ms/step - loss: 0.1692 - accuracy: 0.9457 1s - loss: 0.1 - ETA: 1s - l\n",
      "Epoch 18/20\n",
      "13658/13658 [==============================] - 26s 2ms/step - loss: 0.1414 - accuracy: 0.9523\n",
      "Epoch 19/20\n",
      "13658/13658 [==============================] - 28s 2ms/step - loss: 0.1211 - accuracy: 0.9564\n",
      "Epoch 20/20\n",
      "13658/13658 [==============================] - 27s 2ms/step - loss: 0.1387 - accuracy: 0.9568\n"
     ]
    }
   ],
   "source": [
    "#ANN WITH LOCATION\n",
    "from sklearn.preprocessing import StandardScaler\n",
    "sc = StandardScaler()\n",
    "x1_train = sc.fit_transform(x1_train)\n",
    "x1_test = sc.transform(x1_test)\n",
    "\n",
    "model = Sequential()\n",
    "\n",
    "model.add(Dense(64,kernel_initializer='glorot_normal',activation = \"relu\"))\n",
    "model.add(Dense(1024,kernel_initializer='glorot_normal',activation = \"relu\"))\n",
    "model.add(Dense(1024,kernel_initializer='glorot_normal',activation = \"relu\"))\n",
    "model.add(Dense(1024,kernel_initializer='glorot_normal',activation = \"relu\"))\n",
    "model.add(layers.Dropout(0.25))\n",
    "model.add(Dense(18,activation = \"softmax\"))\n",
    "optimizer = keras.optimizers.Adam(lr=0.01)\n",
    "model.compile(optimizer = \"adam\", loss = \"sparse_categorical_crossentropy\", metrics = ['accuracy'])\n",
    "history =  model.fit(x1_train,y1_train,epochs = 20)"
   ]
  },
  {
   "cell_type": "code",
   "execution_count": 48,
   "metadata": {},
   "outputs": [
    {
     "name": "stdout",
     "output_type": "stream",
     "text": [
      "4553/4553 [==============================] - 1s 242us/step\n"
     ]
    },
    {
     "data": {
      "text/plain": [
       "0.8824950456619263"
      ]
     },
     "execution_count": 48,
     "metadata": {},
     "output_type": "execute_result"
    }
   ],
   "source": [
    "accuracy_a2=model.evaluate(x1_test,y1_test)\n",
    "accuracy_a2[1]"
   ]
  },
  {
   "cell_type": "code",
   "execution_count": 49,
   "metadata": {},
   "outputs": [],
   "source": [
    "accuracyl.append(accuracy_a2[1])"
   ]
  },
  {
   "cell_type": "code",
   "execution_count": 86,
   "metadata": {},
   "outputs": [],
   "source": [
    "accuracies = [85.94,87.61,87.87, 88.24,86.84, 86.03, 85.74, 84.86]\n",
    "layers = [1,2,3,4,5,6,7,8]\n",
    "df = pd.DataFrame(list(zip(layers, accuracies)), \n",
    "               columns =['layers', 'accuracies']) "
   ]
  },
  {
   "cell_type": "code",
   "execution_count": 87,
   "metadata": {},
   "outputs": [],
   "source": [
    "layers1=[1,2,3,4,5,6,7,8]\n",
    "accuracies_without = [78.80, 83.08, 83.21, 83.46, 82.84, 81.55, 81.03, 80.98]"
   ]
  },
  {
   "cell_type": "code",
   "execution_count": 88,
   "metadata": {},
   "outputs": [],
   "source": [
    "df1 = pd.DataFrame(list(zip(layers1, accuracies_without)), \n",
    "               columns =['layers', 'accuracies_without']) "
   ]
  },
  {
   "cell_type": "code",
   "execution_count": 89,
   "metadata": {},
   "outputs": [
    {
     "data": {
      "image/png": "[encoded data removed]",
      "text/plain": [
       "<Figure size 720x576 with 1 Axes>"
      ]
     },
     "metadata": {},
     "output_type": "display_data"
    }
   ],
   "source": [
    "plt.plot(layers, accuracies, label = \"with location\") \n",
    "plt.plot(layers1, accuracies_without, label = \"withoutlocation\")\n",
    "plt.xlabel('layers')\n",
    "plt.ylabel('Accuracy')\n",
    "# Set a title of the current axes.\n",
    "plt.title('change in accuracy w.r.t layers ')\n",
    "# show a legend on the plot\n",
    "plt.legend()\n",
    "# Display a figure.\n",
    "plt.show()\n"
   ]
  },
  {
   "cell_type": "code",
   "execution_count": 81,
   "metadata": {},
   "outputs": [
    {
     "data": {
      "text/plain": [
       "[0.7388535031847133, 0.8409703800493078, 0.8346145153045654]"
      ]
     },
     "execution_count": 81,
     "metadata": {},
     "output_type": "execute_result"
    }
   ],
   "source": [
    "accuracy"
   ]
  },
  {
   "cell_type": "code",
   "execution_count": 75,
   "metadata": {},
   "outputs": [
    {
     "data": {
      "text/plain": [
       "[0.7878321985504063, 0.8772678426336974, 0.8824950456619263]"
      ]
     },
     "execution_count": 75,
     "metadata": {},
     "output_type": "execute_result"
    }
   ],
   "source": [
    "accuracyl"
   ]
  },
  {
   "cell_type": "code",
   "execution_count": 82,
   "metadata": {},
   "outputs": [],
   "source": [
    "accuracy = [ '%.2f' % elem for elem in accuracy ]\n",
    "accuracyl = [ '%.2f' % elem for elem in accuracyl]"
   ]
  },
  {
   "cell_type": "code",
   "execution_count": 84,
   "metadata": {},
   "outputs": [],
   "source": [
    "accuracy = [ '%.2f' % elem for elem in accuracy ]\n",
    "accuracyl = [ '%.2f' % elem for elem in accuracyl]"
   ]
  },
  {
   "cell_type": "code",
   "execution_count": 34,
   "metadata": {},
   "outputs": [],
   "source": [
    "accuracy=[0.72,0.74,0.84,0.83]\n",
    "accuracyl=[0.75,0.79,0.88,0.88]"
   ]
  },
  {
   "cell_type": "code",
   "execution_count": 35,
   "metadata": {},
   "outputs": [
    {
     "data": {
      "image/png": "[encoded data removed]",
      "text/plain": [
       "<Figure size 720x576 with 1 Axes>"
      ]
     },
     "metadata": {
      "needs_background": "light"
     },
     "output_type": "display_data"
    }
   ],
   "source": [
    "labels = ['SVM', 'Decision_Tree','Random_forest','ANN']\n",
    "\n",
    "x = np.arange(len(labels))  # the label locations\n",
    "width = 0.25\n",
    "\n",
    "fig, ax = plt.subplots(figsize=(10,8))\n",
    "rects1 = ax.bar(x -0.5*width, accuracy, width, label='withoutlocation')\n",
    "rects2 = ax.bar(x +0.5*width, accuracyl,width, label='withlocation')\n",
    "# Add some text for labels, title and custom x-axis tick labels, etc.\n",
    "ax.set_title('Accuracy with and without location')\n",
    "ax.set_xticks(x)\n",
    "ax.set_xticklabels(labels)\n",
    "ax.legend(loc='center left', bbox_to_anchor=(1, 0.5))\n",
    "\n",
    "def autolabel(rects):\n",
    "    \"\"\"Attach a text label above each bar in *rects*, displaying its height.\"\"\"\n",
    "    for rect in rects:\n",
    "        height = rect.get_height()\n",
    "        ax.annotate('{}'.format(height),\n",
    "                    xy=(rect.get_x() + rect.get_width() / 2, height),\n",
    "                    xytext=(0, 4),  # 3 points vertical offset\n",
    "                    textcoords=\"offset points\",\n",
    "                    ha='center', va='bottom')\n",
    "\n",
    "autolabel(rects1)\n",
    "autolabel(rects2)\n",
    "\n",
    "fig.tight_layout()\n",
    "\n",
    "plt.show()"
   ]
  },
  {
   "cell_type": "code",
   "execution_count": null,
   "metadata": {},
   "outputs": [],
   "source": []
  },
  {
   "cell_type": "code",
   "execution_count": null,
   "metadata": {},
   "outputs": [],
   "source": []
  }
 ],
 "metadata": {
  "kernelspec": {
   "display_name": "Python 3",
   "language": "python",
   "name": "python3"
  },
  "language_info": {
   "codemirror_mode": {
    "name": "ipython",
    "version": 3
   },
   "file_extension": ".py",
   "mimetype": "text/x-python",
   "name": "python",
   "nbconvert_exporter": "python",
   "pygments_lexer": "ipython3",
   "version": "3.7.4"
  }
 },
 "nbformat": 4,
 "nbformat_minor": 4
}
